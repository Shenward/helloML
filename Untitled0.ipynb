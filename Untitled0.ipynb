{
  "nbformat": 4,
  "nbformat_minor": 0,
  "metadata": {
    "colab": {
      "name": "Untitled0.ipynb",
      "version": "0.3.2",
      "provenance": [],
      "include_colab_link": true
    },
    "kernelspec": {
      "name": "python3",
      "display_name": "Python 3"
    },
    "accelerator": "GPU"
  },
  "cells": [
    {
      "cell_type": "markdown",
      "metadata": {
        "id": "view-in-github",
        "colab_type": "text"
      },
      "source": [
        "[View in Colaboratory](https://colab.research.google.com/github/Shenward/helloML/blob/master/Untitled0.ipynb)"
      ]
    },
    {
      "metadata": {
        "id": "P9W_r3O_FKNi",
        "colab_type": "code",
        "colab": {
          "base_uri": "https://localhost:8080/",
          "height": 105
        },
        "outputId": "bcaf7adf-17ee-47ac-de85-f411c9d16817"
      },
      "cell_type": "code",
      "source": [
        "from google.colab import drive\n",
        "drive.mount('/gdrive')"
      ],
      "execution_count": 2,
      "outputs": [
        {
          "output_type": "stream",
          "text": [
            "Go to this URL in a browser: https://accounts.google.com/o/oauth2/auth?client_id=947318989803-6bn6qk8qdgf4n4g3pfee6491hc0brc4i.apps.googleusercontent.com&redirect_uri=urn%3Aietf%3Awg%3Aoauth%3A2.0%3Aoob&scope=email%20https%3A%2F%2Fwww.googleapis.com%2Fauth%2Fdocs.test%20https%3A%2F%2Fwww.googleapis.com%2Fauth%2Fdrive%20https%3A%2F%2Fwww.googleapis.com%2Fauth%2Fdrive.photos.readonly%20https%3A%2F%2Fwww.googleapis.com%2Fauth%2Fpeopleapi.readonly&response_type=code\n",
            "Enter your authorization code:\n",
            "··········\n",
            "Mounted at /gdrive\n"
          ],
          "name": "stdout"
        }
      ]
    },
    {
      "metadata": {
        "id": "tsJBUoOCHqTp",
        "colab_type": "code",
        "colab": {}
      },
      "cell_type": "code",
      "source": [
        "import pandas as pd\n",
        "import numpy as np\n",
        "import matplotlib.pyplot as plt\n"
      ],
      "execution_count": 0,
      "outputs": []
    },
    {
      "metadata": {
        "id": "1UWvosN-H2X3",
        "colab_type": "code",
        "colab": {
          "base_uri": "https://localhost:8080/",
          "height": 697
        },
        "outputId": "a689e53a-3fd1-43ac-89c8-206c063cbaaa"
      },
      "cell_type": "code",
      "source": [
        "import os\n",
        "os.listdir('/gdrive/My Drive')"
      ],
      "execution_count": 8,
      "outputs": [
        {
          "output_type": "execute_result",
          "data": {
            "text/plain": [
              "['Colab Notebooks',\n",
              " 'tjeff - name.pdf',\n",
              " 'Resume (2).pdf',\n",
              " 'Resume (1).pdf',\n",
              " 'Resume.pdf',\n",
              " 'junior packet 2018.doc.gdoc',\n",
              " 'junior packet 2018.doc',\n",
              " 'compaction.txt.gdoc',\n",
              " 'nearestone.txt.gdoc',\n",
              " 'nearestone.txt',\n",
              " 'compaction.txt',\n",
              " 'LegitimateChineseFinal.gdoc',\n",
              " 'SIS Lab Proposal.gdoc',\n",
              " 'File_002.jpeg',\n",
              " 'Captain Speech.gdoc',\n",
              " 'SAT Subject Tests Admission Ticket -- SAT Subject Test.pdf',\n",
              " 'USNA Summer Seminar :.pdf',\n",
              " 'Untitled document.gdoc',\n",
              " 'Lynching.gdoc',\n",
              " 'Untitled document (1).gdoc',\n",
              " 'NCTE Theme.gdoc',\n",
              " 'Work.gdoc',\n",
              " 'Vocab 1.gdoc',\n",
              " 'Sermon.gdoc',\n",
              " 'New Recording.m4a',\n",
              " 'Atlas.gslides',\n",
              " 'File_000.mov',\n",
              " 'File_001.mov',\n",
              " 'Edward Shen, Jonathan Pollock Period 6.gdoc',\n",
              " 'Search Ed.gdoc',\n",
              " 'The Lab Edward Better Not Fuck Up.gdoc',\n",
              " 'CustomerLargeYard.java',\n",
              " 'CustomerMediumYard.java',\n",
              " 'CustomerSmallYard.java',\n",
              " 'DisplaySampleYard.java',\n",
              " 'DriverSampleYard.java',\n",
              " 'PanelSampleYard.java',\n",
              " 'Yard.java',\n",
              " 'Driver14.java',\n",
              " 'individual project report.gdoc']"
            ]
          },
          "metadata": {
            "tags": []
          },
          "execution_count": 8
        }
      ]
    },
    {
      "metadata": {
        "id": "QefHYjueIoHM",
        "colab_type": "code",
        "colab": {
          "base_uri": "https://localhost:8080/",
          "height": 85
        },
        "outputId": "77cb1ce5-86f4-4a47-8a52-7595644eb9e8"
      },
      "cell_type": "code",
      "source": [
        "import pandas as pd\n",
        "import numpy as np\n",
        "import matplotlib.pyplot as plt\n",
        "import os\n",
        "\n",
        "os.listdir('/gdrive/My Drive/bitcoin-historical-data')"
      ],
      "execution_count": 9,
      "outputs": [
        {
          "output_type": "execute_result",
          "data": {
            "text/plain": [
              "['bitflyerJPY_1-min_data_2017-07-04_to_2018-06-27.csv',\n",
              " 'bitstampUSD_1-min_data_2012-01-01_to_2018-06-27.csv',\n",
              " 'coinbaseUSD_1-min_data_2014-12-01_to_2018-06-27.csv',\n",
              " 'coincheckJPY_1-min_data_2014-10-31_to_2018-06-27.csv']"
            ]
          },
          "metadata": {
            "tags": []
          },
          "execution_count": 9
        }
      ]
    },
    {
      "metadata": {
        "id": "VdFW1R1jJQ5D",
        "colab_type": "code",
        "colab": {
          "base_uri": "https://localhost:8080/",
          "height": 204
        },
        "outputId": "76fe92f9-3918-4726-8047-3c116b69d558"
      },
      "cell_type": "code",
      "source": [
        "df = pd.read_csv('/gdrive/My Drive/bitcoin-historical-data/bitstampUSD_1-min_data_2012-01-01_to_2018-06-27.csv')\n",
        "df.head()"
      ],
      "execution_count": 13,
      "outputs": [
        {
          "output_type": "execute_result",
          "data": {
            "text/html": [
              "<div>\n",
              "<style scoped>\n",
              "    .dataframe tbody tr th:only-of-type {\n",
              "        vertical-align: middle;\n",
              "    }\n",
              "\n",
              "    .dataframe tbody tr th {\n",
              "        vertical-align: top;\n",
              "    }\n",
              "\n",
              "    .dataframe thead th {\n",
              "        text-align: right;\n",
              "    }\n",
              "</style>\n",
              "<table border=\"1\" class=\"dataframe\">\n",
              "  <thead>\n",
              "    <tr style=\"text-align: right;\">\n",
              "      <th></th>\n",
              "      <th>Timestamp</th>\n",
              "      <th>Open</th>\n",
              "      <th>High</th>\n",
              "      <th>Low</th>\n",
              "      <th>Close</th>\n",
              "      <th>Volume_(BTC)</th>\n",
              "      <th>Volume_(Currency)</th>\n",
              "      <th>Weighted_Price</th>\n",
              "    </tr>\n",
              "  </thead>\n",
              "  <tbody>\n",
              "    <tr>\n",
              "      <th>0</th>\n",
              "      <td>1325317920</td>\n",
              "      <td>4.39</td>\n",
              "      <td>4.39</td>\n",
              "      <td>4.39</td>\n",
              "      <td>4.39</td>\n",
              "      <td>0.455581</td>\n",
              "      <td>2.0</td>\n",
              "      <td>4.39</td>\n",
              "    </tr>\n",
              "    <tr>\n",
              "      <th>1</th>\n",
              "      <td>1325317980</td>\n",
              "      <td>4.39</td>\n",
              "      <td>4.39</td>\n",
              "      <td>4.39</td>\n",
              "      <td>4.39</td>\n",
              "      <td>0.455581</td>\n",
              "      <td>2.0</td>\n",
              "      <td>4.39</td>\n",
              "    </tr>\n",
              "    <tr>\n",
              "      <th>2</th>\n",
              "      <td>1325318040</td>\n",
              "      <td>4.39</td>\n",
              "      <td>4.39</td>\n",
              "      <td>4.39</td>\n",
              "      <td>4.39</td>\n",
              "      <td>0.455581</td>\n",
              "      <td>2.0</td>\n",
              "      <td>4.39</td>\n",
              "    </tr>\n",
              "    <tr>\n",
              "      <th>3</th>\n",
              "      <td>1325318100</td>\n",
              "      <td>4.39</td>\n",
              "      <td>4.39</td>\n",
              "      <td>4.39</td>\n",
              "      <td>4.39</td>\n",
              "      <td>0.455581</td>\n",
              "      <td>2.0</td>\n",
              "      <td>4.39</td>\n",
              "    </tr>\n",
              "    <tr>\n",
              "      <th>4</th>\n",
              "      <td>1325318160</td>\n",
              "      <td>4.39</td>\n",
              "      <td>4.39</td>\n",
              "      <td>4.39</td>\n",
              "      <td>4.39</td>\n",
              "      <td>0.455581</td>\n",
              "      <td>2.0</td>\n",
              "      <td>4.39</td>\n",
              "    </tr>\n",
              "  </tbody>\n",
              "</table>\n",
              "</div>"
            ],
            "text/plain": [
              "    Timestamp  Open  High   Low  Close  Volume_(BTC)  Volume_(Currency)  \\\n",
              "0  1325317920  4.39  4.39  4.39   4.39      0.455581                2.0   \n",
              "1  1325317980  4.39  4.39  4.39   4.39      0.455581                2.0   \n",
              "2  1325318040  4.39  4.39  4.39   4.39      0.455581                2.0   \n",
              "3  1325318100  4.39  4.39  4.39   4.39      0.455581                2.0   \n",
              "4  1325318160  4.39  4.39  4.39   4.39      0.455581                2.0   \n",
              "\n",
              "   Weighted_Price  \n",
              "0            4.39  \n",
              "1            4.39  \n",
              "2            4.39  \n",
              "3            4.39  \n",
              "4            4.39  "
            ]
          },
          "metadata": {
            "tags": []
          },
          "execution_count": 13
        }
      ]
    },
    {
      "metadata": {
        "id": "0haDtk-MKcZq",
        "colab_type": "code",
        "colab": {
          "base_uri": "https://localhost:8080/",
          "height": 297
        },
        "outputId": "dcd75f1b-7c9a-47cf-cb62-62e4b192a462"
      },
      "cell_type": "code",
      "source": [
        "df.describe()\n"
      ],
      "execution_count": 15,
      "outputs": [
        {
          "output_type": "execute_result",
          "data": {
            "text/html": [
              "<div>\n",
              "<style scoped>\n",
              "    .dataframe tbody tr th:only-of-type {\n",
              "        vertical-align: middle;\n",
              "    }\n",
              "\n",
              "    .dataframe tbody tr th {\n",
              "        vertical-align: top;\n",
              "    }\n",
              "\n",
              "    .dataframe thead th {\n",
              "        text-align: right;\n",
              "    }\n",
              "</style>\n",
              "<table border=\"1\" class=\"dataframe\">\n",
              "  <thead>\n",
              "    <tr style=\"text-align: right;\">\n",
              "      <th></th>\n",
              "      <th>Timestamp</th>\n",
              "      <th>Open</th>\n",
              "      <th>High</th>\n",
              "      <th>Low</th>\n",
              "      <th>Close</th>\n",
              "      <th>Volume_(BTC)</th>\n",
              "      <th>Volume_(Currency)</th>\n",
              "      <th>Weighted_Price</th>\n",
              "    </tr>\n",
              "  </thead>\n",
              "  <tbody>\n",
              "    <tr>\n",
              "      <th>count</th>\n",
              "      <td>3.405857e+06</td>\n",
              "      <td>3.405857e+06</td>\n",
              "      <td>3.405857e+06</td>\n",
              "      <td>3.405857e+06</td>\n",
              "      <td>3.405857e+06</td>\n",
              "      <td>3.405857e+06</td>\n",
              "      <td>3.405857e+06</td>\n",
              "      <td>3.405857e+06</td>\n",
              "    </tr>\n",
              "    <tr>\n",
              "      <th>mean</th>\n",
              "      <td>1.427701e+09</td>\n",
              "      <td>1.535757e+03</td>\n",
              "      <td>1.537163e+03</td>\n",
              "      <td>1.534153e+03</td>\n",
              "      <td>1.535739e+03</td>\n",
              "      <td>1.101862e+01</td>\n",
              "      <td>1.533527e+04</td>\n",
              "      <td>1.535645e+03</td>\n",
              "    </tr>\n",
              "    <tr>\n",
              "      <th>std</th>\n",
              "      <td>5.915861e+07</td>\n",
              "      <td>3.037551e+03</td>\n",
              "      <td>3.041014e+03</td>\n",
              "      <td>3.033519e+03</td>\n",
              "      <td>3.037511e+03</td>\n",
              "      <td>3.500616e+01</td>\n",
              "      <td>7.259934e+04</td>\n",
              "      <td>3.037272e+03</td>\n",
              "    </tr>\n",
              "    <tr>\n",
              "      <th>min</th>\n",
              "      <td>1.325318e+09</td>\n",
              "      <td>3.800000e+00</td>\n",
              "      <td>3.800000e+00</td>\n",
              "      <td>1.500000e+00</td>\n",
              "      <td>1.500000e+00</td>\n",
              "      <td>0.000000e+00</td>\n",
              "      <td>0.000000e+00</td>\n",
              "      <td>3.800000e+00</td>\n",
              "    </tr>\n",
              "    <tr>\n",
              "      <th>25%</th>\n",
              "      <td>1.376406e+09</td>\n",
              "      <td>1.228200e+02</td>\n",
              "      <td>1.228900e+02</td>\n",
              "      <td>1.227600e+02</td>\n",
              "      <td>1.228100e+02</td>\n",
              "      <td>4.767414e-01</td>\n",
              "      <td>7.732200e+01</td>\n",
              "      <td>1.228200e+02</td>\n",
              "    </tr>\n",
              "    <tr>\n",
              "      <th>50%</th>\n",
              "      <td>1.427882e+09</td>\n",
              "      <td>4.167300e+02</td>\n",
              "      <td>4.168700e+02</td>\n",
              "      <td>4.165600e+02</td>\n",
              "      <td>4.167200e+02</td>\n",
              "      <td>2.157220e+00</td>\n",
              "      <td>4.738905e+02</td>\n",
              "      <td>4.167000e+02</td>\n",
              "    </tr>\n",
              "    <tr>\n",
              "      <th>75%</th>\n",
              "      <td>1.478970e+09</td>\n",
              "      <td>8.094000e+02</td>\n",
              "      <td>8.099700e+02</td>\n",
              "      <td>8.089900e+02</td>\n",
              "      <td>8.094800e+02</td>\n",
              "      <td>8.931947e+00</td>\n",
              "      <td>4.197468e+03</td>\n",
              "      <td>8.093700e+02</td>\n",
              "    </tr>\n",
              "    <tr>\n",
              "      <th>max</th>\n",
              "      <td>1.530058e+09</td>\n",
              "      <td>1.966576e+04</td>\n",
              "      <td>1.966600e+04</td>\n",
              "      <td>1.964996e+04</td>\n",
              "      <td>1.966575e+04</td>\n",
              "      <td>5.853852e+03</td>\n",
              "      <td>5.483271e+06</td>\n",
              "      <td>1.966330e+04</td>\n",
              "    </tr>\n",
              "  </tbody>\n",
              "</table>\n",
              "</div>"
            ],
            "text/plain": [
              "          Timestamp          Open          High           Low         Close  \\\n",
              "count  3.405857e+06  3.405857e+06  3.405857e+06  3.405857e+06  3.405857e+06   \n",
              "mean   1.427701e+09  1.535757e+03  1.537163e+03  1.534153e+03  1.535739e+03   \n",
              "std    5.915861e+07  3.037551e+03  3.041014e+03  3.033519e+03  3.037511e+03   \n",
              "min    1.325318e+09  3.800000e+00  3.800000e+00  1.500000e+00  1.500000e+00   \n",
              "25%    1.376406e+09  1.228200e+02  1.228900e+02  1.227600e+02  1.228100e+02   \n",
              "50%    1.427882e+09  4.167300e+02  4.168700e+02  4.165600e+02  4.167200e+02   \n",
              "75%    1.478970e+09  8.094000e+02  8.099700e+02  8.089900e+02  8.094800e+02   \n",
              "max    1.530058e+09  1.966576e+04  1.966600e+04  1.964996e+04  1.966575e+04   \n",
              "\n",
              "       Volume_(BTC)  Volume_(Currency)  Weighted_Price  \n",
              "count  3.405857e+06       3.405857e+06    3.405857e+06  \n",
              "mean   1.101862e+01       1.533527e+04    1.535645e+03  \n",
              "std    3.500616e+01       7.259934e+04    3.037272e+03  \n",
              "min    0.000000e+00       0.000000e+00    3.800000e+00  \n",
              "25%    4.767414e-01       7.732200e+01    1.228200e+02  \n",
              "50%    2.157220e+00       4.738905e+02    4.167000e+02  \n",
              "75%    8.931947e+00       4.197468e+03    8.093700e+02  \n",
              "max    5.853852e+03       5.483271e+06    1.966330e+04  "
            ]
          },
          "metadata": {
            "tags": []
          },
          "execution_count": 15
        }
      ]
    }
  ]
}